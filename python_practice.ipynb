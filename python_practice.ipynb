{
 "cells": [
  {
   "cell_type": "markdown",
   "metadata": {},
   "source": [
    "### python-practice"
   ]
  },
  {
   "cell_type": "code",
   "execution_count": 2,
   "metadata": {},
   "outputs": [
    {
     "name": "stdout",
     "output_type": "stream",
     "text": [
      "Hello world\n"
     ]
    }
   ],
   "source": [
    "#printing hello world\n",
    "print(\"Hello world\")"
   ]
  },
  {
   "cell_type": "code",
   "execution_count": 3,
   "metadata": {},
   "outputs": [
    {
     "name": "stdout",
     "output_type": "stream",
     "text": [
      "Twinkle, twinkle, little star,\n",
      "How I wonder what you are!\n",
      "Up above the world so high,\n",
      "Like a diamond in the sky.\n"
     ]
    }
   ],
   "source": [
    "# Write a program to write twinkle Twinkle little star poem in python.\n",
    "print('''Twinkle, twinkle, little star,\n",
    "How I wonder what you are!\n",
    "Up above the world so high,\n",
    "Like a diamond in the sky.''')"
   ]
  },
  {
   "cell_type": "code",
   "execution_count": 5,
   "metadata": {},
   "outputs": [
    {
     "name": "stdout",
     "output_type": "stream",
     "text": [
      "hello user\n"
     ]
    }
   ],
   "source": [
    "# Install an external module and use it to perform an operation of your intrest.\n",
    "import pyttsx3\n",
    "print(\"hello user\")"
   ]
  },
  {
   "cell_type": "code",
   "execution_count": 11,
   "metadata": {},
   "outputs": [
    {
     "name": "stdout",
     "output_type": "stream",
     "text": [
      "['.bash_history', '.config', '.gitconfig', '.Icecream Screen Recorder', '.idlerc', '.ipynb_checkpoints', '.ipython', '.jupyter', '.node_repl_history', '.obs32', '.pylint.d', '.vscode', 'anaconda3', 'AppData', 'Application Data', 'Arithmatic Operators.ipynb', 'cheak -for- equality.ipynb', 'Contacts', 'Cookies', 'd4ac4633ebd6440fa397b84f1bc94a3c.7z', 'Documents', 'Downloads', 'Favorites', 'inittk.ini', 'inst.ini', 'Links', 'Local Settings', 'log', 'Music', 'My Documents', 'NetHood', 'NTUSER.DAT', 'ntuser.dat.LOG1', 'ntuser.dat.LOG2', 'NTUSER.DAT{016888bd-6c6f-11de-8d1d-001e0bcde3ec}.TM.blf', 'NTUSER.DAT{016888bd-6c6f-11de-8d1d-001e0bcde3ec}.TMContainer00000000000000000001.regtrans-ms', 'NTUSER.DAT{016888bd-6c6f-11de-8d1d-001e0bcde3ec}.TMContainer00000000000000000002.regtrans-ms', 'ntuser.ini', 'nuuid.ini', 'OneDrive', 'output_ouestion.ipynb', 'Pictures', 'PrintHood', 'PycharmProjects', 'python_practice.ipynb', 'Recent', 's.cpp', 'Saved Games', 'Searches', 'SendTo', 'Start Menu', 'Templates', 'Untitled.ipynb', 'untitled.txt', 'Untitled1.ipynb', 'Untitled2.ipynb', 'Untitled3.ipynb', 'Untitled4.ipynb', 'useruid.ini', 'variables_intro.ipynb', 'Videos', 'vmlogs']\n"
     ]
    }
   ],
   "source": [
    "# write a python program to print the content of the directory using os module.\n",
    "import os\n",
    "print(os.listdir())"
   ]
  },
  {
   "cell_type": "code",
   "execution_count": 22,
   "metadata": {},
   "outputs": [
    {
     "name": "stdout",
     "output_type": "stream",
     "text": [
      "samrat\n",
      "345\n",
      "45.32\n",
      "True\n",
      "<class 'str'>\n",
      "<class 'int'>\n",
      "<class 'float'>\n",
      "<class 'bool'>\n"
     ]
    }
   ],
   "source": [
    "#variable\n",
    "a = '''samrat'''\n",
    "# a = 'samrat'\n",
    "# a = \"samrat\"\n",
    "b = 345\n",
    "c = 45.32\n",
    "d = True\n",
    "# d = None\n",
    "\n",
    "# Printing the variables\n",
    "print(a)\n",
    "print(b)\n",
    "print(c)\n",
    "print(d)\n",
    "\n",
    "# Printing the type of variables\n",
    "print(type(a))\n",
    "print(type(b))\n",
    "print(type(c))\n",
    "print(type(d))\n"
   ]
  },
  {
   "cell_type": "code",
   "execution_count": 24,
   "metadata": {},
   "outputs": [
    {
     "name": "stdout",
     "output_type": "stream",
     "text": [
      "The value of 3+4 is  7\n",
      "The value of 3-4 is  -1\n",
      "The value of 3*4 is  12\n",
      "The value of 3/4 is  0.75\n",
      "22.0\n",
      "True\n",
      "The value of bool1 and bool2 is False\n",
      "The value of bool1 or bool2 is True\n",
      "The value of not bool2 is True\n"
     ]
    }
   ],
   "source": [
    "# opretors\n",
    "a = 3\n",
    "b = 4\n",
    "\n",
    "# Arithmetic Operators\n",
    "print(\"The value of 3+4 is \", 3+4)\n",
    "print(\"The value of 3-4 is \", 3-4)\n",
    "print(\"The value of 3*4 is \", 3*4)\n",
    "print(\"The value of 3/4 is \", 3/4)\n",
    "\n",
    "# Assignment Operators\n",
    "a = 34\n",
    "a -= 12\n",
    "a *= 12\n",
    "a /= 12\n",
    "print(a)\n",
    "\n",
    "# Comparison Operators\n",
    "# b = (14<=7)\n",
    "# b = (14>=7)\n",
    "# b = (14<7)\n",
    "# b = (14>7)\n",
    "# b = (14==7)\n",
    "b = (14!=7)\n",
    "print(b)\n",
    "\n",
    "# Logical Operators\n",
    "bool1 = True\n",
    "bool2 = False\n",
    "print(\"The value of bool1 and bool2 is\", (bool1 and bool2))\n",
    "print(\"The value of bool1 or bool2 is\", (bool1 or bool2))\n",
    "print(\"The value of not bool2 is\", (not bool2))"
   ]
  },
  {
   "cell_type": "code",
   "execution_count": 28,
   "metadata": {},
   "outputs": [
    {
     "data": {
      "text/plain": [
       "24"
      ]
     },
     "execution_count": 28,
     "metadata": {},
     "output_type": "execute_result"
    }
   ],
   "source": [
    "# simple interest to lower integer\n",
    "p = 100\n",
    "r = 12\n",
    "t = 2\n",
    "# si = p * r * t // 100\n",
    "#si = t//100 * r * p\n",
    "si = (p * r * t)//100\n",
    "si"
   ]
  },
  {
   "cell_type": "code",
   "execution_count": 29,
   "metadata": {},
   "outputs": [
    {
     "name": "stdout",
     "output_type": "stream",
     "text": [
      "37.77777777777778\n",
      "37\n"
     ]
    }
   ],
   "source": [
    "# fah to celcium conversion\n",
    "f = 100\n",
    "c = (f - 32) * 5/9\n",
    "print(c)\n",
    "ci = (f - 32) * 5//9\n",
    "print(ci)"
   ]
  }
 ],
 "metadata": {
  "kernelspec": {
   "display_name": "Python 3",
   "language": "python",
   "name": "python3"
  },
  "language_info": {
   "codemirror_mode": {
    "name": "ipython",
    "version": 3
   },
   "file_extension": ".py",
   "mimetype": "text/x-python",
   "name": "python",
   "nbconvert_exporter": "python",
   "pygments_lexer": "ipython3",
   "version": "3.7.1"
  }
 },
 "nbformat": 4,
 "nbformat_minor": 4
}
